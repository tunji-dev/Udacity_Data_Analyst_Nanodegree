{
 "cells": [
  {
   "cell_type": "markdown",
   "metadata": {},
   "source": [
    "# Binomial Distributions\n",
    "- Used NumPy binomial function to create simulations and compute proportions for the following outcomes."
   ]
  },
  {
   "cell_type": "markdown",
   "metadata": {},
   "source": []
  }
 ],
 "metadata": {
  "kernelspec": {
   "display_name": "Python 3.10.5 ('minimal_ds')",
   "language": "python",
   "name": "python3"
  },
  "language_info": {
   "name": "python",
   "version": "3.10.5"
  },
  "orig_nbformat": 4,
  "vscode": {
   "interpreter": {
    "hash": "22f4e4280131dd495c9bf382ad9b505c79385cf96a81876e0e7359554718a2a3"
   }
  }
 },
 "nbformat": 4,
 "nbformat_minor": 2
}
