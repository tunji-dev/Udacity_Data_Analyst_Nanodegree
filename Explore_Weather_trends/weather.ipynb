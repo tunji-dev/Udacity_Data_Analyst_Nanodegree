{
 "cells": [
  {
   "cell_type": "code",
   "execution_count": 1,
   "metadata": {},
   "outputs": [],
   "source": [
    "import pandas as pd\n",
    "import numpy as np\n",
    "import matplotlib\n",
    "import matplotlib.pyplot as plt\n",
    "import matplotlib.ticker as ticker\n",
    "%matplotlib inline\n"
   ]
  },
  {
   "cell_type": "markdown",
   "metadata": {},
   "source": [
    "### Data Understanding"
   ]
  },
  {
   "cell_type": "code",
   "execution_count": 2,
   "metadata": {},
   "outputs": [
    {
     "name": "stdout",
     "output_type": "stream",
     "text": [
      "<class 'pandas.core.frame.DataFrame'>\n",
      "RangeIndex: 165 entries, 0 to 164\n",
      "Data columns (total 3 columns):\n",
      " #   Column       Non-Null Count  Dtype  \n",
      "---  ------       --------------  -----  \n",
      " 0   year         165 non-null    int64  \n",
      " 1   global_temp  165 non-null    float64\n",
      " 2   city_temp    151 non-null    float64\n",
      "dtypes: float64(2), int64(1)\n",
      "memory usage: 4.0 KB\n"
     ]
    }
   ],
   "source": [
    "\n",
    "df1 = pd.read_csv('city_global.csv')\n",
    "df1.info()\n"
   ]
  },
  {
   "cell_type": "code",
   "execution_count": 3,
   "metadata": {},
   "outputs": [
    {
     "data": {
      "text/plain": [
       "year           False\n",
       "global_temp    False\n",
       "city_temp       True\n",
       "dtype: bool"
      ]
     },
     "execution_count": 3,
     "metadata": {},
     "output_type": "execute_result"
    }
   ],
   "source": [
    "df1.isnull().any()\n"
   ]
  },
  {
   "cell_type": "markdown",
   "metadata": {},
   "source": [
    "### Data Cleaning"
   ]
  },
  {
   "cell_type": "code",
   "execution_count": 4,
   "metadata": {},
   "outputs": [],
   "source": [
    "df1_clean = df1.dropna()"
   ]
  },
  {
   "cell_type": "code",
   "execution_count": 5,
   "metadata": {},
   "outputs": [
    {
     "name": "stdout",
     "output_type": "stream",
     "text": [
      "(165, 3)\n",
      "(151, 3)\n"
     ]
    }
   ],
   "source": [
    "print(df1.shape)\n",
    "print(df1_clean.shape)"
   ]
  },
  {
   "cell_type": "markdown",
   "metadata": {},
   "source": [
    "### Moving Average (MA) Calculation"
   ]
  },
  {
   "cell_type": "code",
   "execution_count": null,
   "metadata": {},
   "outputs": [],
   "source": [
    "%%timeit\n",
    "df1_clean\n",
    "df1_clean['global_MA_10'] = np.round(df1_clean.iloc[:,1].rolling(window=10).mean(),2)\n",
    "df1_clean['city_MA_10'] = np.round(df1_clean.iloc[:,2].rolling(window=10).mean(),2)\n"
   ]
  },
  {
   "cell_type": "code",
   "execution_count": 7,
   "metadata": {},
   "outputs": [
    {
     "data": {
      "text/html": [
       "<div>\n",
       "<style scoped>\n",
       "    .dataframe tbody tr th:only-of-type {\n",
       "        vertical-align: middle;\n",
       "    }\n",
       "\n",
       "    .dataframe tbody tr th {\n",
       "        vertical-align: top;\n",
       "    }\n",
       "\n",
       "    .dataframe thead th {\n",
       "        text-align: right;\n",
       "    }\n",
       "</style>\n",
       "<table border=\"1\" class=\"dataframe\">\n",
       "  <thead>\n",
       "    <tr style=\"text-align: right;\">\n",
       "      <th></th>\n",
       "      <th>year</th>\n",
       "      <th>global_temp</th>\n",
       "      <th>city_temp</th>\n",
       "      <th>global_MA_10</th>\n",
       "      <th>city_MA_10</th>\n",
       "    </tr>\n",
       "  </thead>\n",
       "  <tbody>\n",
       "    <tr>\n",
       "      <th>0</th>\n",
       "      <td>1849</td>\n",
       "      <td>7.98</td>\n",
       "      <td>25.98</td>\n",
       "      <td>NaN</td>\n",
       "      <td>NaN</td>\n",
       "    </tr>\n",
       "    <tr>\n",
       "      <th>1</th>\n",
       "      <td>1850</td>\n",
       "      <td>7.90</td>\n",
       "      <td>25.87</td>\n",
       "      <td>NaN</td>\n",
       "      <td>NaN</td>\n",
       "    </tr>\n",
       "    <tr>\n",
       "      <th>2</th>\n",
       "      <td>1851</td>\n",
       "      <td>8.18</td>\n",
       "      <td>26.10</td>\n",
       "      <td>NaN</td>\n",
       "      <td>NaN</td>\n",
       "    </tr>\n",
       "    <tr>\n",
       "      <th>7</th>\n",
       "      <td>1856</td>\n",
       "      <td>8.00</td>\n",
       "      <td>26.35</td>\n",
       "      <td>NaN</td>\n",
       "      <td>NaN</td>\n",
       "    </tr>\n",
       "    <tr>\n",
       "      <th>8</th>\n",
       "      <td>1857</td>\n",
       "      <td>7.76</td>\n",
       "      <td>25.45</td>\n",
       "      <td>NaN</td>\n",
       "      <td>NaN</td>\n",
       "    </tr>\n",
       "    <tr>\n",
       "      <th>9</th>\n",
       "      <td>1858</td>\n",
       "      <td>8.10</td>\n",
       "      <td>25.92</td>\n",
       "      <td>NaN</td>\n",
       "      <td>NaN</td>\n",
       "    </tr>\n",
       "    <tr>\n",
       "      <th>10</th>\n",
       "      <td>1859</td>\n",
       "      <td>8.25</td>\n",
       "      <td>26.18</td>\n",
       "      <td>NaN</td>\n",
       "      <td>NaN</td>\n",
       "    </tr>\n",
       "    <tr>\n",
       "      <th>11</th>\n",
       "      <td>1860</td>\n",
       "      <td>7.96</td>\n",
       "      <td>26.01</td>\n",
       "      <td>NaN</td>\n",
       "      <td>NaN</td>\n",
       "    </tr>\n",
       "    <tr>\n",
       "      <th>12</th>\n",
       "      <td>1861</td>\n",
       "      <td>7.85</td>\n",
       "      <td>25.95</td>\n",
       "      <td>NaN</td>\n",
       "      <td>NaN</td>\n",
       "    </tr>\n",
       "    <tr>\n",
       "      <th>13</th>\n",
       "      <td>1862</td>\n",
       "      <td>7.56</td>\n",
       "      <td>25.90</td>\n",
       "      <td>7.95</td>\n",
       "      <td>25.97</td>\n",
       "    </tr>\n",
       "    <tr>\n",
       "      <th>24</th>\n",
       "      <td>1873</td>\n",
       "      <td>8.35</td>\n",
       "      <td>26.46</td>\n",
       "      <td>7.99</td>\n",
       "      <td>26.02</td>\n",
       "    </tr>\n",
       "    <tr>\n",
       "      <th>25</th>\n",
       "      <td>1874</td>\n",
       "      <td>8.43</td>\n",
       "      <td>26.08</td>\n",
       "      <td>8.04</td>\n",
       "      <td>26.04</td>\n",
       "    </tr>\n",
       "    <tr>\n",
       "      <th>26</th>\n",
       "      <td>1875</td>\n",
       "      <td>7.86</td>\n",
       "      <td>25.82</td>\n",
       "      <td>8.01</td>\n",
       "      <td>26.01</td>\n",
       "    </tr>\n",
       "    <tr>\n",
       "      <th>27</th>\n",
       "      <td>1876</td>\n",
       "      <td>8.08</td>\n",
       "      <td>25.82</td>\n",
       "      <td>8.02</td>\n",
       "      <td>25.96</td>\n",
       "    </tr>\n",
       "    <tr>\n",
       "      <th>28</th>\n",
       "      <td>1877</td>\n",
       "      <td>8.54</td>\n",
       "      <td>26.35</td>\n",
       "      <td>8.10</td>\n",
       "      <td>26.05</td>\n",
       "    </tr>\n",
       "    <tr>\n",
       "      <th>29</th>\n",
       "      <td>1878</td>\n",
       "      <td>8.83</td>\n",
       "      <td>26.26</td>\n",
       "      <td>8.17</td>\n",
       "      <td>26.08</td>\n",
       "    </tr>\n",
       "    <tr>\n",
       "      <th>30</th>\n",
       "      <td>1879</td>\n",
       "      <td>8.17</td>\n",
       "      <td>25.67</td>\n",
       "      <td>8.16</td>\n",
       "      <td>26.03</td>\n",
       "    </tr>\n",
       "    <tr>\n",
       "      <th>31</th>\n",
       "      <td>1880</td>\n",
       "      <td>8.12</td>\n",
       "      <td>26.14</td>\n",
       "      <td>8.18</td>\n",
       "      <td>26.04</td>\n",
       "    </tr>\n",
       "    <tr>\n",
       "      <th>32</th>\n",
       "      <td>1881</td>\n",
       "      <td>8.27</td>\n",
       "      <td>26.39</td>\n",
       "      <td>8.22</td>\n",
       "      <td>26.09</td>\n",
       "    </tr>\n",
       "    <tr>\n",
       "      <th>33</th>\n",
       "      <td>1882</td>\n",
       "      <td>8.13</td>\n",
       "      <td>26.01</td>\n",
       "      <td>8.28</td>\n",
       "      <td>26.10</td>\n",
       "    </tr>\n",
       "  </tbody>\n",
       "</table>\n",
       "</div>"
      ],
      "text/plain": [
       "    year  global_temp  city_temp  global_MA_10  city_MA_10\n",
       "0   1849         7.98      25.98           NaN         NaN\n",
       "1   1850         7.90      25.87           NaN         NaN\n",
       "2   1851         8.18      26.10           NaN         NaN\n",
       "7   1856         8.00      26.35           NaN         NaN\n",
       "8   1857         7.76      25.45           NaN         NaN\n",
       "9   1858         8.10      25.92           NaN         NaN\n",
       "10  1859         8.25      26.18           NaN         NaN\n",
       "11  1860         7.96      26.01           NaN         NaN\n",
       "12  1861         7.85      25.95           NaN         NaN\n",
       "13  1862         7.56      25.90          7.95       25.97\n",
       "24  1873         8.35      26.46          7.99       26.02\n",
       "25  1874         8.43      26.08          8.04       26.04\n",
       "26  1875         7.86      25.82          8.01       26.01\n",
       "27  1876         8.08      25.82          8.02       25.96\n",
       "28  1877         8.54      26.35          8.10       26.05\n",
       "29  1878         8.83      26.26          8.17       26.08\n",
       "30  1879         8.17      25.67          8.16       26.03\n",
       "31  1880         8.12      26.14          8.18       26.04\n",
       "32  1881         8.27      26.39          8.22       26.09\n",
       "33  1882         8.13      26.01          8.28       26.10"
      ]
     },
     "execution_count": 7,
     "metadata": {},
     "output_type": "execute_result"
    }
   ],
   "source": [
    "df1_clean.head(n=20)"
   ]
  },
  {
   "cell_type": "markdown",
   "metadata": {},
   "source": [
    "### Data Visualization"
   ]
  },
  {
   "cell_type": "code",
   "execution_count": 8,
   "metadata": {},
   "outputs": [],
   "source": [
    "year = df1_clean['year']\n",
    "global_temp = df1_clean['global_MA_10']\n",
    "city_temp = df1_clean['city_MA_10']\n"
   ]
  },
  {
   "cell_type": "code",
   "execution_count": 9,
   "metadata": {},
   "outputs": [
    {
     "data": {
      "text/plain": [
       "Text(0.5, 1.0, 'Lagos Vs Global Average Temparture')"
      ]
     },
     "execution_count": 9,
     "metadata": {},
     "output_type": "execute_result"
    },
    {
     "data": {
      "image/png": "[encoded data removed]",
      "text/plain": [
       "<Figure size 1080x720 with 1 Axes>"
      ]
     },
     "metadata": {
      "needs_background": "light"
     },
     "output_type": "display_data"
    }
   ],
   "source": [
    "# matplotlib.rc_file_defaults() used to remove the effect of seaborn\n",
    "plt.figure(figsize=[15,10])\n",
    "plt.grid(True)\n",
    "plt.plot(year, global_temp, label='Global')\n",
    "plt.plot(year, city_temp, label='Lagos')\n",
    "plt.legend(loc=2)\n",
    "plt.xlabel(\"Year\",fontsize=14)\n",
    "plt.ylabel(\"Temperature($^\\circ$C)\",fontsize=14)\n",
    "plt.title('Lagos Vs Global Average Temparture',fontsize=20)\n",
    "# plt.tight_layout()\n"
   ]
  },
  {
   "cell_type": "code",
   "execution_count": 10,
   "metadata": {},
   "outputs": [
    {
     "data": {
      "image/png": "[encoded data removed]",
      "text/plain": [
       "<Figure size 432x288 with 1 Axes>"
      ]
     },
     "metadata": {
      "needs_background": "light"
     },
     "output_type": "display_data"
    }
   ],
   "source": [
    "\n",
    "plt.grid(True)\n",
    "plt.plot(year, global_temp, label='Global')\n",
    "plt.plot(year, city_temp, label='Lagos')\n",
    "plt.legend(loc=2)\n",
    "plt.xlabel(\"Year\",fontsize=14)\n",
    "plt.xlim((1885, 1900))\n",
    "plt.tight_layout()"
   ]
  },
  {
   "cell_type": "markdown",
   "metadata": {},
   "source": [
    "### Observastion\n"
   ]
  },
  {
   "cell_type": "code",
   "execution_count": 11,
   "metadata": {},
   "outputs": [
    {
     "name": "stdout",
     "output_type": "stream",
     "text": [
      "7.95\n",
      "9.56\n",
      "\n",
      "\n",
      "25.45\n",
      "27.42\n"
     ]
    }
   ],
   "source": [
    "print(global_temp.min())\n",
    "print(global_temp.max())\n",
    "print('\\n')\n",
    "print(city_temp.min())\n",
    "print(city_temp.max())"
   ]
  },
  {
   "cell_type": "code",
   "execution_count": 12,
   "metadata": {},
   "outputs": [
    {
     "data": {
      "text/html": [
       "<div>\n",
       "<style scoped>\n",
       "    .dataframe tbody tr th:only-of-type {\n",
       "        vertical-align: middle;\n",
       "    }\n",
       "\n",
       "    .dataframe tbody tr th {\n",
       "        vertical-align: top;\n",
       "    }\n",
       "\n",
       "    .dataframe thead th {\n",
       "        text-align: right;\n",
       "    }\n",
       "</style>\n",
       "<table border=\"1\" class=\"dataframe\">\n",
       "  <thead>\n",
       "    <tr style=\"text-align: right;\">\n",
       "      <th></th>\n",
       "      <th>year</th>\n",
       "      <th>global_temp</th>\n",
       "      <th>city_temp</th>\n",
       "      <th>global_MA_10</th>\n",
       "      <th>city_MA_10</th>\n",
       "    </tr>\n",
       "  </thead>\n",
       "  <tbody>\n",
       "    <tr>\n",
       "      <th>0</th>\n",
       "      <td>1849</td>\n",
       "      <td>7.98</td>\n",
       "      <td>25.98</td>\n",
       "      <td>NaN</td>\n",
       "      <td>NaN</td>\n",
       "    </tr>\n",
       "    <tr>\n",
       "      <th>1</th>\n",
       "      <td>1850</td>\n",
       "      <td>7.90</td>\n",
       "      <td>25.87</td>\n",
       "      <td>NaN</td>\n",
       "      <td>NaN</td>\n",
       "    </tr>\n",
       "    <tr>\n",
       "      <th>2</th>\n",
       "      <td>1851</td>\n",
       "      <td>8.18</td>\n",
       "      <td>26.10</td>\n",
       "      <td>NaN</td>\n",
       "      <td>NaN</td>\n",
       "    </tr>\n",
       "    <tr>\n",
       "      <th>7</th>\n",
       "      <td>1856</td>\n",
       "      <td>8.00</td>\n",
       "      <td>26.35</td>\n",
       "      <td>NaN</td>\n",
       "      <td>NaN</td>\n",
       "    </tr>\n",
       "    <tr>\n",
       "      <th>8</th>\n",
       "      <td>1857</td>\n",
       "      <td>7.76</td>\n",
       "      <td>25.45</td>\n",
       "      <td>NaN</td>\n",
       "      <td>NaN</td>\n",
       "    </tr>\n",
       "    <tr>\n",
       "      <th>...</th>\n",
       "      <td>...</td>\n",
       "      <td>...</td>\n",
       "      <td>...</td>\n",
       "      <td>...</td>\n",
       "      <td>...</td>\n",
       "    </tr>\n",
       "    <tr>\n",
       "      <th>160</th>\n",
       "      <td>2009</td>\n",
       "      <td>9.51</td>\n",
       "      <td>27.53</td>\n",
       "      <td>9.49</td>\n",
       "      <td>27.30</td>\n",
       "    </tr>\n",
       "    <tr>\n",
       "      <th>161</th>\n",
       "      <td>2010</td>\n",
       "      <td>9.70</td>\n",
       "      <td>27.79</td>\n",
       "      <td>9.54</td>\n",
       "      <td>27.37</td>\n",
       "    </tr>\n",
       "    <tr>\n",
       "      <th>162</th>\n",
       "      <td>2011</td>\n",
       "      <td>9.52</td>\n",
       "      <td>27.35</td>\n",
       "      <td>9.55</td>\n",
       "      <td>27.42</td>\n",
       "    </tr>\n",
       "    <tr>\n",
       "      <th>163</th>\n",
       "      <td>2012</td>\n",
       "      <td>9.51</td>\n",
       "      <td>27.15</td>\n",
       "      <td>9.55</td>\n",
       "      <td>27.42</td>\n",
       "    </tr>\n",
       "    <tr>\n",
       "      <th>164</th>\n",
       "      <td>2013</td>\n",
       "      <td>9.61</td>\n",
       "      <td>27.36</td>\n",
       "      <td>9.56</td>\n",
       "      <td>27.42</td>\n",
       "    </tr>\n",
       "  </tbody>\n",
       "</table>\n",
       "<p>151 rows × 5 columns</p>\n",
       "</div>"
      ],
      "text/plain": [
       "     year  global_temp  city_temp  global_MA_10  city_MA_10\n",
       "0    1849         7.98      25.98           NaN         NaN\n",
       "1    1850         7.90      25.87           NaN         NaN\n",
       "2    1851         8.18      26.10           NaN         NaN\n",
       "7    1856         8.00      26.35           NaN         NaN\n",
       "8    1857         7.76      25.45           NaN         NaN\n",
       "..    ...          ...        ...           ...         ...\n",
       "160  2009         9.51      27.53          9.49       27.30\n",
       "161  2010         9.70      27.79          9.54       27.37\n",
       "162  2011         9.52      27.35          9.55       27.42\n",
       "163  2012         9.51      27.15          9.55       27.42\n",
       "164  2013         9.61      27.36          9.56       27.42\n",
       "\n",
       "[151 rows x 5 columns]"
      ]
     },
     "execution_count": 12,
     "metadata": {},
     "output_type": "execute_result"
    }
   ],
   "source": [
    "df1_clean"
   ]
  }
 ],
 "metadata": {
  "kernelspec": {
   "display_name": "Python 3.10.5 ('minimal_ds')",
   "language": "python",
   "name": "python3"
  },
  "language_info": {
   "codemirror_mode": {
    "name": "ipython",
    "version": 3
   },
   "file_extension": ".py",
   "mimetype": "text/x-python",
   "name": "python",
   "nbconvert_exporter": "python",
   "pygments_lexer": "ipython3",
   "version": "3.10.5"
  },
  "orig_nbformat": 4,
  "vscode": {
   "interpreter": {
    "hash": "22f4e4280131dd495c9bf382ad9b505c79385cf96a81876e0e7359554718a2a3"
   }
  }
 },
 "nbformat": 4,
 "nbformat_minor": 2
}
