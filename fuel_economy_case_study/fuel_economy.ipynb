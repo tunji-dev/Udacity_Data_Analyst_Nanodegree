{
 "cells": [
  {
   "cell_type": "code",
   "execution_count": 1,
   "metadata": {},
   "outputs": [],
   "source": [
    "import pandas as pd\n",
    "import numpy as np"
   ]
  },
  {
   "cell_type": "markdown",
   "metadata": {},
   "source": [
    "# Assessing\n",
    "Use the space below to explore `all_alpha_08.csv` and `all_alpha_18.csv` to answer the quiz questions below.\n",
    "- number of samples in each dataset\n",
    "- number of columns in each dataset\n",
    "- duplicate rows in each dataset\n",
    "- datatypes of columns\n",
    "- features with missing values\n",
    "- number of non-null unique values for features in each dataset\n",
    "- what those unique values are and counts for each"
   ]
  },
  {
   "cell_type": "code",
   "execution_count": 2,
   "metadata": {},
   "outputs": [],
   "source": [
    "fuel_08_df = pd.read_csv('all_alpha_08.csv')\n",
    "fuel_18_df = pd.read_csv('all_alpha_18.csv')"
   ]
  },
  {
   "cell_type": "code",
   "execution_count": 4,
   "metadata": {},
   "outputs": [
    {
     "name": "stdout",
     "output_type": "stream",
     "text": [
      "(2404, 18)\n",
      "(1611, 18)\n"
     ]
    }
   ],
   "source": [
    "print(fuel_08_df.shape)\n",
    "print(fuel_18_df.shape)"
   ]
  },
  {
   "cell_type": "markdown",
   "metadata": {},
   "source": [
    "There are 18 colummns and 1611 samples in the 2018 dataset\n"
   ]
  },
  {
   "cell_type": "code",
   "execution_count": 6,
   "metadata": {},
   "outputs": [
    {
     "name": "stdout",
     "output_type": "stream",
     "text": [
      "25\n",
      "0\n"
     ]
    }
   ],
   "source": [
    "print(fuel_08_df.duplicated().sum())\n",
    "print(fuel_18_df.duplicated().sum())"
   ]
  },
  {
   "cell_type": "code",
   "execution_count": 9,
   "metadata": {},
   "outputs": [
    {
     "data": {
      "text/plain": [
       "Model                     0\n",
       "Displ                     0\n",
       "Cyl                     199\n",
       "Trans                   199\n",
       "Drive                    93\n",
       "Fuel                      0\n",
       "Sales Area                0\n",
       "Stnd                      0\n",
       "Underhood ID              0\n",
       "Veh Class                 0\n",
       "Air Pollution Score       0\n",
       "FE Calc Appr            199\n",
       "City MPG                199\n",
       "Hwy MPG                 199\n",
       "Cmb MPG                 199\n",
       "Unadj Cmb MPG           199\n",
       "Greenhouse Gas Score    199\n",
       "SmartWay                  0\n",
       "dtype: int64"
      ]
     },
     "execution_count": 9,
     "metadata": {},
     "output_type": "execute_result"
    }
   ],
   "source": [
    "fuel_08_df.isnull().sum()"
   ]
  },
  {
   "cell_type": "code",
   "execution_count": 11,
   "metadata": {},
   "outputs": [
    {
     "data": {
      "text/plain": [
       "Model                   0\n",
       "Displ                   2\n",
       "Cyl                     2\n",
       "Trans                   0\n",
       "Drive                   0\n",
       "Fuel                    0\n",
       "Cert Region             0\n",
       "Stnd                    0\n",
       "Stnd Description        0\n",
       "Underhood ID            0\n",
       "Veh Class               0\n",
       "Air Pollution Score     0\n",
       "City MPG                0\n",
       "Hwy MPG                 0\n",
       "Cmb MPG                 0\n",
       "Greenhouse Gas Score    0\n",
       "SmartWay                0\n",
       "Comb CO2                0\n",
       "dtype: int64"
      ]
     },
     "execution_count": 11,
     "metadata": {},
     "output_type": "execute_result"
    }
   ],
   "source": [
    "fuel_18_df.isnull().sum()"
   ]
  },
  {
   "cell_type": "code",
   "execution_count": 14,
   "metadata": {},
   "outputs": [
    {
     "data": {
      "text/plain": [
       "Model                    object\n",
       "Displ                   float64\n",
       "Cyl                      object\n",
       "Trans                    object\n",
       "Drive                    object\n",
       "Fuel                     object\n",
       "Sales Area               object\n",
       "Stnd                     object\n",
       "Underhood ID             object\n",
       "Veh Class                object\n",
       "Air Pollution Score      object\n",
       "FE Calc Appr             object\n",
       "City MPG                 object\n",
       "Hwy MPG                  object\n",
       "Cmb MPG                  object\n",
       "Unadj Cmb MPG           float64\n",
       "Greenhouse Gas Score     object\n",
       "SmartWay                 object\n",
       "dtype: object"
      ]
     },
     "execution_count": 14,
     "metadata": {},
     "output_type": "execute_result"
    }
   ],
   "source": [
    "fuel_08_df.dtypes"
   ]
  },
  {
   "cell_type": "code",
   "execution_count": 13,
   "metadata": {},
   "outputs": [
    {
     "data": {
      "text/plain": [
       "Model                    object\n",
       "Displ                   float64\n",
       "Cyl                     float64\n",
       "Trans                    object\n",
       "Drive                    object\n",
       "Fuel                     object\n",
       "Cert Region              object\n",
       "Stnd                     object\n",
       "Stnd Description         object\n",
       "Underhood ID             object\n",
       "Veh Class                object\n",
       "Air Pollution Score       int64\n",
       "City MPG                 object\n",
       "Hwy MPG                  object\n",
       "Cmb MPG                  object\n",
       "Greenhouse Gas Score      int64\n",
       "SmartWay                 object\n",
       "Comb CO2                 object\n",
       "dtype: object"
      ]
     },
     "execution_count": 13,
     "metadata": {},
     "output_type": "execute_result"
    }
   ],
   "source": [
    "fuel_18_df.dtypes"
   ]
  },
  {
   "cell_type": "code",
   "execution_count": 15,
   "metadata": {},
   "outputs": [
    {
     "data": {
      "text/plain": [
       "Model                   436\n",
       "Displ                    47\n",
       "Cyl                       8\n",
       "Trans                    14\n",
       "Drive                     2\n",
       "Fuel                      5\n",
       "Sales Area                3\n",
       "Stnd                     12\n",
       "Underhood ID            343\n",
       "Veh Class                 9\n",
       "Air Pollution Score      13\n",
       "FE Calc Appr              2\n",
       "City MPG                 39\n",
       "Hwy MPG                  43\n",
       "Cmb MPG                  38\n",
       "Unadj Cmb MPG           721\n",
       "Greenhouse Gas Score     20\n",
       "SmartWay                  2\n",
       "dtype: int64"
      ]
     },
     "execution_count": 15,
     "metadata": {},
     "output_type": "execute_result"
    }
   ],
   "source": [
    "fuel_08_df.nunique()"
   ]
  },
  {
   "cell_type": "code",
   "execution_count": 16,
   "metadata": {},
   "outputs": [
    {
     "data": {
      "text/plain": [
       "Model                   367\n",
       "Displ                    36\n",
       "Cyl                       7\n",
       "Trans                    26\n",
       "Drive                     2\n",
       "Fuel                      5\n",
       "Cert Region               2\n",
       "Stnd                     19\n",
       "Stnd Description         19\n",
       "Underhood ID            230\n",
       "Veh Class                 9\n",
       "Air Pollution Score       6\n",
       "City MPG                 58\n",
       "Hwy MPG                  62\n",
       "Cmb MPG                  57\n",
       "Greenhouse Gas Score     10\n",
       "SmartWay                  3\n",
       "Comb CO2                299\n",
       "dtype: int64"
      ]
     },
     "execution_count": 16,
     "metadata": {},
     "output_type": "execute_result"
    }
   ],
   "source": [
    "fuel_18_df.nunique()"
   ]
  },
  {
   "cell_type": "markdown",
   "metadata": {},
   "source": [
    "How do the Cyl columns in the 2008 and 2018 datasets differ?\n",
    "- The differ in Data types, Format and Number of unique values"
   ]
  },
  {
   "cell_type": "code",
   "execution_count": 17,
   "metadata": {},
   "outputs": [
    {
     "data": {
      "text/plain": [
       "array(['Gasoline', 'ethanol/gas', 'ethanol', 'diesel', 'CNG'],\n",
       "      dtype=object)"
      ]
     },
     "execution_count": 17,
     "metadata": {},
     "output_type": "execute_result"
    }
   ],
   "source": [
    "fuel_08_df.Fuel.unique()"
   ]
  },
  {
   "cell_type": "code",
   "execution_count": 18,
   "metadata": {},
   "outputs": [
    {
     "data": {
      "text/plain": [
       "array(['Gasoline', 'Gasoline/Electricity', 'Diesel', 'Ethanol/Gas',\n",
       "       'Electricity'], dtype=object)"
      ]
     },
     "execution_count": 18,
     "metadata": {},
     "output_type": "execute_result"
    }
   ],
   "source": [
    "fuel_18_df.Fuel.unique()"
   ]
  },
  {
   "cell_type": "code",
   "execution_count": null,
   "metadata": {},
   "outputs": [],
   "source": []
  }
 ],
 "metadata": {
  "kernelspec": {
   "display_name": "Python 3.10.5 ('minimal_ds')",
   "language": "python",
   "name": "python3"
  },
  "language_info": {
   "codemirror_mode": {
    "name": "ipython",
    "version": 3
   },
   "file_extension": ".py",
   "mimetype": "text/x-python",
   "name": "python",
   "nbconvert_exporter": "python",
   "pygments_lexer": "ipython3",
   "version": "3.10.5"
  },
  "orig_nbformat": 4,
  "vscode": {
   "interpreter": {
    "hash": "22f4e4280131dd495c9bf382ad9b505c79385cf96a81876e0e7359554718a2a3"
   }
  }
 },
 "nbformat": 4,
 "nbformat_minor": 2
}
